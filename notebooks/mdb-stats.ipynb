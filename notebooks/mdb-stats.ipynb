{
 "metadata": {
  "language_info": {
   "codemirror_mode": {
    "name": "ipython",
    "version": 3
   },
   "file_extension": ".py",
   "mimetype": "text/x-python",
   "name": "python",
   "nbconvert_exporter": "python",
   "pygments_lexer": "ipython3",
   "version": "3.7.10-final"
  },
  "orig_nbformat": 2,
  "kernelspec": {
   "name": "python3710jvsc74a57bd0608f993381518af22aa291e73f168664a486db5639b967f50a02b3f7155edb6d",
   "display_name": "Python 3.7.10 64-bit"
  }
 },
 "nbformat": 4,
 "nbformat_minor": 2,
 "cells": [
  {
   "cell_type": "code",
   "execution_count": 2,
   "metadata": {},
   "outputs": [
    {
     "output_type": "stream",
     "name": "stderr",
     "text": [
      "/home/hugo/venv/lib/python3.7/site-packages/medleydb/multitrack.py:367: YAMLLoadWarning: calling yaml.load() without Loader=... is deprecated, as the default Loader is unsafe. Please read https://msg.pyyaml.org/load for full details.\n",
      "  metadata = yaml.load(f_in)\n",
      "2021-04-05:13:55:29,508 INFO     [mdb.py:40] classlist is: ['alto saxophone', 'male speaker', 'mandolin', 'double bass', 'viola', 'drum machine', 'horn section', 'guzheng', 'violin', 'claps', 'toms', 'vibraphone', 'male rapper', 'bassoon', 'cymbal', 'accordion', 'trombone', 'timpani', 'oboe', 'tabla', 'piano', 'clarinet', 'banjo', 'male singer', 'piccolo', 'flute', 'drum set', 'electric bass', 'electric piano', 'shaker', 'auxiliary percussion', 'harmonica', 'acoustic guitar', 'bass drum', 'bass clarinet', 'darbuka', 'harp', 'clean electric guitar', 'vocalists', 'female singer', 'trumpet', 'tambourine', 'gong', 'bongo', 'snare drum', 'doumbek', 'yangqin', 'gu', 'oud', 'lap steel guitar', 'zhongruan', 'french horn', 'glockenspiel', 'chimes', 'distorted electric guitar', 'bamboo flute', 'kick drum', 'tack piano', 'dizi', 'baritone saxophone', 'melodica', 'liuqin', 'cello', 'tuba', 'soprano saxophone', 'synthesizer', 'tenor saxophone', 'erhu']\n"
     ]
    },
    {
     "output_type": "error",
     "ename": "NameError",
     "evalue": "name 'instrument' is not defined",
     "traceback": [
      "\u001b[0;31m---------------------------------------------------------------------------\u001b[0m",
      "\u001b[0;31mNameError\u001b[0m                                 Traceback (most recent call last)",
      "\u001b[0;32m<ipython-input-2-63bae837f71e>\u001b[0m in \u001b[0;36m<module>\u001b[0;34m\u001b[0m\n\u001b[1;32m      6\u001b[0m \u001b[0;32mfor\u001b[0m \u001b[0minst\u001b[0m \u001b[0;32min\u001b[0m \u001b[0minstruments\u001b[0m\u001b[0;34m:\u001b[0m\u001b[0;34m\u001b[0m\u001b[0;34m\u001b[0m\u001b[0m\n\u001b[1;32m      7\u001b[0m     \u001b[0;32mfor\u001b[0m \u001b[0mfpath\u001b[0m \u001b[0;32min\u001b[0m \u001b[0mget_files_for_instrument\u001b[0m\u001b[0;34m(\u001b[0m\u001b[0minst\u001b[0m\u001b[0;34m)\u001b[0m\u001b[0;34m:\u001b[0m\u001b[0;34m\u001b[0m\u001b[0;34m\u001b[0m\u001b[0m\n\u001b[0;32m----> 8\u001b[0;31m         \u001b[0mrecords\u001b[0m\u001b[0;34m.\u001b[0m\u001b[0mappend\u001b[0m\u001b[0;34m(\u001b[0m\u001b[0;34m{\u001b[0m\u001b[0;34m'path'\u001b[0m\u001b[0;34m:\u001b[0m \u001b[0mfpath\u001b[0m\u001b[0;34m,\u001b[0m \u001b[0;34m'name'\u001b[0m\u001b[0;34m:\u001b[0m \u001b[0minstrument\u001b[0m\u001b[0;34m}\u001b[0m\u001b[0;34m)\u001b[0m\u001b[0;34m\u001b[0m\u001b[0;34m\u001b[0m\u001b[0m\n\u001b[0m\u001b[1;32m      9\u001b[0m \u001b[0;34m\u001b[0m\u001b[0m\n\u001b[1;32m     10\u001b[0m \u001b[0mdf\u001b[0m \u001b[0;34m=\u001b[0m \u001b[0mpd\u001b[0m\u001b[0;34m.\u001b[0m\u001b[0mDataFrame\u001b[0m\u001b[0;34m(\u001b[0m\u001b[0mrecords\u001b[0m\u001b[0;34m)\u001b[0m\u001b[0;34m\u001b[0m\u001b[0;34m\u001b[0m\u001b[0m\n",
      "\u001b[0;31mNameError\u001b[0m: name 'instrument' is not defined"
     ]
    }
   ],
   "source": [
    "from music_trees.generate.mdb import load_unique_instrument_list, get_files_for_instrument\n",
    "import pandas as pd\n",
    "\n",
    "instruments = load_unique_instrument_list()\n",
    "records = []\n",
    "for inst in instruments:\n",
    "    for fpath in get_files_for_instrument(inst):\n",
    "        records.append({'path': fpath, 'name': inst})\n",
    "\n",
    "df = pd.DataFrame(records)\n",
    "df"
   ]
  },
  {
   "cell_type": "code",
   "execution_count": null,
   "metadata": {},
   "outputs": [],
   "source": []
  }
 ]
}