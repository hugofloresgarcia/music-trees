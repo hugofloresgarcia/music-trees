{
 "cells": [
  {
   "cell_type": "code",
   "execution_count": 1,
   "id": "enclosed-strengthening",
   "metadata": {},
   "outputs": [
    {
     "name": "stderr",
     "output_type": "stream",
     "text": [
      "Global seed set to 42\n",
      "/home/aldo/documents/hierachical-few-shot/medleydb/medleydb/__init__.py:64: YAMLLoadWarning: calling yaml.load() without Loader=... is deprecated, as the default Loader is unsafe. Please read https://msg.pyyaml.org/load for full details.\n",
      "  INST_TAXONOMY = yaml.load(fhandle)\n",
      "/home/aldo/documents/hierachical-few-shot/medleydb/medleydb/__init__.py:72: YAMLLoadWarning: calling yaml.load() without Loader=... is deprecated, as the default Loader is unsafe. Please read https://msg.pyyaml.org/load for full details.\n",
      "  MIXING_COEFFICIENTS = yaml.load(fhandle)\n",
      "Global seed set to 42\n",
      "2021-05-05:00:51:45,451 INFO     [seed.py:54] Global seed set to 42\n"
     ]
    }
   ],
   "source": [
    "import music_trees as mt\n",
    "import glob\n",
    "from pathlib import Path\n",
    "import pandas as pd\n",
    "import numpy as np\n",
    "\n",
    "import matplotlib.pyplot as plt\n",
    "plt.rcParams.update({\n",
    "    \"text.usetex\": True,\n",
    "    'font.size': 11,\n",
    "    \"font.family\": \"sans-serif\",\n",
    "    \"font.sans-serif\": [\"Helvetica\"]\n",
    "})\n",
    "\n",
    "path_to_results = mt.ROOT_DIR / 'results' \n",
    "output_dir = mt.ROOT_DIR / 'scripts' / 'figures'\n",
    "output_dir.mkdir(exist_ok=True)\n",
    "filepaths = glob.glob(\n",
    "    str(Path(path_to_results) / '**/*.csv'), recursive=True)\n",
    "fulldf = pd.concat([pd.read_csv(fp) for fp in filepaths], ignore_index=True)\n",
    "fulldf = fulldf.drop_duplicates()"
   ]
  },
  {
   "cell_type": "code",
   "execution_count": 2,
   "id": "b9a32213",
   "metadata": {},
   "outputs": [
    {
     "data": {
      "text/plain": [
       "array(['baseline', 'random-1', 'random-4', 'proposed', 'deeper-mdb',\n",
       "       'random-0', 'random-2', 'random-7', 'random-8', 'random-6',\n",
       "       'random-5'], dtype=object)"
      ]
     },
     "execution_count": 2,
     "metadata": {},
     "output_type": "execute_result"
    }
   ],
   "source": [
    "fulldf.name.unique()"
   ]
  },
  {
   "cell_type": "code",
   "execution_count": 3,
   "id": "timely-republic",
   "metadata": {},
   "outputs": [],
   "source": [
    "df = fulldf[fulldf.n_shot == 8]\n",
    "df = df[df.metric == 'f1_micro']\n",
    "df = df[df.tag == 'protonet']\n",
    "df = df.sort_values(by='name')"
   ]
  },
  {
   "cell_type": "code",
   "execution_count": 4,
   "id": "clinical-priest",
   "metadata": {},
   "outputs": [
    {
     "data": {
      "image/png": "[encoded data removed]",
      "text/plain": [
       "<Figure size 1080x720 with 1 Axes>"
      ]
     },
     "execution_count": 4,
     "metadata": {},
     "output_type": "execute_result"
    }
   ],
   "source": [
    "import seaborn as sns\n",
    "import matplotlib.pyplot as plt\n",
    "\n",
    "plt.rcParams[\"figure.figsize\"] = (15,10)\n",
    "sns.boxplot(data=df, x='name', y='value',  palette=\"pastel\", showmeans=True)\n",
    "# plt.title('F1 Micro')\n",
    "plt.ylabel('F1 Micro')\n",
    "plt.xlabel('Class Tree Height $H_i$')\n",
    "# plt.ylim([0.5, 0.99])\n",
    "plt.tight_layout()\n",
    "fig = plt.gcf()\n",
    "plt.close()\n",
    "fig.savefig(output_dir / 'height-vs-f1.png')\n",
    "fig\n"
   ]
  },
  {
   "cell_type": "code",
   "execution_count": 113,
   "id": "f93bdd49",
   "metadata": {},
   "outputs": [],
   "source": [
    "results = {}\n",
    "for name in fulldf.name.unique():\n",
    "    results[name] = []\n",
    "    for metric in fulldf.metric.unique():\n",
    "        results[name].append(f'{name} {metric} \\n mean:{np.mean(fulldf[(fulldf.name == name) & (fulldf.metric == metric) & (fulldf.n_shot == 8)].value) }\\n')"
   ]
  },
  {
   "cell_type": "code",
   "execution_count": 115,
   "id": "15950cbe",
   "metadata": {},
   "outputs": [
    {
     "data": {
      "text/plain": [
       "{'baseline': ['baseline f1_micro \\n mean:0.7481625000000001\\n',\n",
       "  'baseline f1_macro \\n mean:0.7498031596234261\\n',\n",
       "  'baseline epi-accuracy \\n mean:0.7481625\\n',\n",
       "  'baseline hlca-mistake \\n mean:4.091982853103131\\n',\n",
       "  'baseline hierarchical-precision \\n mean:0.8129805555555558\\n',\n",
       "  'baseline hierarchical-recall \\n mean:0.8129805555555558\\n',\n",
       "  'baseline hierarchical-f1 \\n mean:0.8129805555555558\\n'],\n",
       " 'random-1': ['random-1 f1_micro \\n mean:0.7211652777777777\\n',\n",
       "  'random-1 f1_macro \\n mean:0.7257811353200032\\n',\n",
       "  'random-1 epi-accuracy \\n mean:0.7211652777777777\\n',\n",
       "  'random-1 hlca-mistake \\n mean:4.561213204767021\\n',\n",
       "  'random-1 hierarchical-precision \\n mean:0.8191319444444445\\n',\n",
       "  'random-1 hierarchical-recall \\n mean:0.8191319444444445\\n',\n",
       "  'random-1 hierarchical-f1 \\n mean:0.8191319444444445\\n'],\n",
       " 'random-4': ['random-4 f1_micro \\n mean:0.6818611111111113\\n',\n",
       "  'random-4 f1_macro \\n mean:0.687946406006603\\n',\n",
       "  'random-4 epi-accuracy \\n mean:0.6818611111111113\\n',\n",
       "  'random-4 hlca-mistake \\n mean:4.492139334601114\\n',\n",
       "  'random-4 hierarchical-precision \\n mean:0.7776819444444442\\n',\n",
       "  'random-4 hierarchical-recall \\n mean:0.7776819444444442\\n',\n",
       "  'random-4 hierarchical-f1 \\n mean:0.7776819444444442\\n'],\n",
       " 'proposed': ['proposed f1_micro \\n mean:0.7772666666666668\\n',\n",
       "  'proposed f1_macro \\n mean:0.7823545631910983\\n',\n",
       "  'proposed epi-accuracy \\n mean:0.7772666666666668\\n',\n",
       "  'proposed hlca-mistake \\n mean:3.9866223138219254\\n',\n",
       "  'proposed hierarchical-precision \\n mean:0.8374986111111111\\n',\n",
       "  'proposed hierarchical-recall \\n mean:0.8374986111111111\\n',\n",
       "  'proposed hierarchical-f1 \\n mean:0.8374986111111111\\n'],\n",
       " 'deeper-mdb': ['deeper-mdb f1_micro \\n mean:0.7545958333333334\\n',\n",
       "  'deeper-mdb f1_macro \\n mean:0.7535412852917519\\n',\n",
       "  'deeper-mdb epi-accuracy \\n mean:0.7545958333333334\\n',\n",
       "  'deeper-mdb hlca-mistake \\n mean:4.008981391778477\\n',\n",
       "  'deeper-mdb hierarchical-precision \\n mean:0.8100041666666666\\n',\n",
       "  'deeper-mdb hierarchical-recall \\n mean:0.8100041666666666\\n',\n",
       "  'deeper-mdb hierarchical-f1 \\n mean:0.8100041666666665\\n'],\n",
       " 'random-0': ['random-0 f1_micro \\n mean:0.7208291666666666\\n',\n",
       "  'random-0 f1_macro \\n mean:0.7204982318748285\\n',\n",
       "  'random-0 epi-accuracy \\n mean:0.7208291666666666\\n',\n",
       "  'random-0 hlca-mistake \\n mean:4.390720486615707\\n',\n",
       "  'random-0 hierarchical-precision \\n mean:0.8006680555555558\\n',\n",
       "  'random-0 hierarchical-recall \\n mean:0.8006680555555558\\n',\n",
       "  'random-0 hierarchical-f1 \\n mean:0.8006680555555558\\n'],\n",
       " 'random-2': ['random-2 f1_micro \\n mean:0.7162111111111112\\n',\n",
       "  'random-2 f1_macro \\n mean:0.7207391076135286\\n',\n",
       "  'random-2 epi-accuracy \\n mean:0.7162111111111111\\n',\n",
       "  'random-2 hlca-mistake \\n mean:4.49040024811104\\n',\n",
       "  'random-2 hierarchical-precision \\n mean:0.8024888888888887\\n',\n",
       "  'random-2 hierarchical-recall \\n mean:0.8024888888888887\\n',\n",
       "  'random-2 hierarchical-f1 \\n mean:0.8024888888888887\\n'],\n",
       " 'random-7': ['random-7 f1_micro \\n mean:0.7296263888888889\\n',\n",
       "  'random-7 f1_macro \\n mean:0.7302059573350504\\n',\n",
       "  'random-7 epi-accuracy \\n mean:0.7296263888888889\\n',\n",
       "  'random-7 hlca-mistake \\n mean:4.576544855310045\\n',\n",
       "  'random-7 hierarchical-precision \\n mean:0.8189166666666666\\n',\n",
       "  'random-7 hierarchical-recall \\n mean:0.8189166666666666\\n',\n",
       "  'random-7 hierarchical-f1 \\n mean:0.8189166666666666\\n'],\n",
       " 'random-8': ['random-8 f1_micro \\n mean:0.6866055555555556\\n',\n",
       "  'random-8 f1_macro \\n mean:0.6898060905812241\\n',\n",
       "  'random-8 epi-accuracy \\n mean:0.6866055555555556\\n',\n",
       "  'random-8 hlca-mistake \\n mean:4.558141156609171\\n',\n",
       "  'random-8 hierarchical-precision \\n mean:0.7934888888888888\\n',\n",
       "  'random-8 hierarchical-recall \\n mean:0.7934888888888888\\n',\n",
       "  'random-8 hierarchical-f1 \\n mean:0.7934888888888888\\n'],\n",
       " 'random-6': ['random-6 f1_micro \\n mean:0.7063763888888889\\n',\n",
       "  'random-6 f1_macro \\n mean:0.7104988642882386\\n',\n",
       "  'random-6 epi-accuracy \\n mean:0.7063763888888889\\n',\n",
       "  'random-6 hlca-mistake \\n mean:4.494166336199281\\n',\n",
       "  'random-6 hierarchical-precision \\n mean:0.7922930555555557\\n',\n",
       "  'random-6 hierarchical-recall \\n mean:0.7922930555555557\\n',\n",
       "  'random-6 hierarchical-f1 \\n mean:0.7922930555555557\\n'],\n",
       " 'random-5': ['random-5 f1_micro \\n mean:0.7176152777777778\\n',\n",
       "  'random-5 f1_macro \\n mean:0.7293334320881852\\n',\n",
       "  'random-5 epi-accuracy \\n mean:0.7176152777777778\\n',\n",
       "  'random-5 hlca-mistake \\n mean:4.380501432681465\\n',\n",
       "  'random-5 hierarchical-precision \\n mean:0.8058305555555556\\n',\n",
       "  'random-5 hierarchical-recall \\n mean:0.8058305555555556\\n',\n",
       "  'random-5 hierarchical-f1 \\n mean:0.8058305555555556\\n']}"
      ]
     },
     "execution_count": 115,
     "metadata": {},
     "output_type": "execute_result"
    }
   ],
   "source": [
    "results"
   ]
  },
  {
   "cell_type": "code",
   "execution_count": 119,
   "id": "agricultural-spell",
   "metadata": {},
   "outputs": [],
   "source": [
    "df = fulldf[fulldf.metric == 'f1_micro']\n",
    "df = df[df.tag == 'protonet']\n",
    "df = df[(df.height == 1) | (df.height == 0)]\n",
    "df = df.sort_values(by='name')"
   ]
  },
  {
   "cell_type": "code",
   "execution_count": 20,
   "id": "minimal-discovery",
   "metadata": {},
   "outputs": [
    {
     "data": {
      "image/png": "[encoded data removed]",
      "text/plain": [
       "<Figure size 504x216 with 1 Axes>"
      ]
     },
     "execution_count": 20,
     "metadata": {},
     "output_type": "execute_result"
    }
   ],
   "source": [
    "import seaborn as sns\n",
    "import matplotlib.pyplot as plt\n",
    "\n",
    "sns.boxplot(data=df, x='n_shot', y='value', hue='height', palette=\"pastel\", showmeans=True)\n",
    "# plt.title('F1 Micro')\n",
    "plt.ylabel('F1 Micro')\n",
    "plt.xlabel('Number of Support Examples $N$')\n",
    "plt.tight_layout()\n",
    "fig = plt.gcf()\n",
    "plt.close()\n",
    "fig.savefig(output_dir / 'n_shot-vs-f1.png')\n",
    "fig"
   ]
  },
  {
   "cell_type": "code",
   "execution_count": 17,
   "id": "trained-house",
   "metadata": {},
   "outputs": [],
   "source": [
    "df = fulldf[fulldf.metric == 'hlca-mistake']\n",
    "df = df[df.tag == 'protonet']\n",
    "df = df[(df.height == 1) | (df.height == 0)]\n",
    "df = df.sort_values(by='name')\n",
    "df.value = df.value / 5"
   ]
  },
  {
   "cell_type": "code",
   "execution_count": 18,
   "id": "adverse-waterproof",
   "metadata": {},
   "outputs": [
    {
     "data": {
      "image/png": "[encoded data removed]",
      "text/plain": [
       "<Figure size 504x216 with 1 Axes>"
      ]
     },
     "execution_count": 18,
     "metadata": {},
     "output_type": "execute_result"
    }
   ],
   "source": [
    "import seaborn as sns\n",
    "import matplotlib.pyplot as plt\n",
    "\n",
    "sns.boxplot(data=df, x='n_shot', y='value', hue='height', palette=\"pastel\", showmeans=True)\n",
    "# plt.title('')\n",
    "plt.ylabel('Normalized HLCA of Mistakes')\n",
    "plt.xlabel('Number of Support Examples')\n",
    "plt.tight_layout()\n",
    "plt.ylim([0.3, 0.99])\n",
    "fig = plt.gcf()\n",
    "plt.close()\n",
    "fig.savefig(output_dir / 'normalized-hlca.png')\n",
    "fig"
   ]
  },
  {
   "cell_type": "code",
   "execution_count": 39,
   "id": "modern-intensity",
   "metadata": {},
   "outputs": [
    {
     "data": {
      "image/png": "[encoded data removed]",
      "text/plain": [
       "<Figure size 504x432 with 2 Axes>"
      ]
     },
     "execution_count": 39,
     "metadata": {},
     "output_type": "execute_result"
    }
   ],
   "source": [
    "fig, axes = plt.subplots(2, 1, figsize=(7, 6), sharex=True)\n",
    "\n",
    "\n",
    "# Bulbasaur\n",
    "df = fulldf[fulldf.metric == 'hlca-mistake']\n",
    "df = df[df.tag == 'protonet']\n",
    "df = df[(df.height == 1) | (df.height == 0)]\n",
    "df = df.sort_values(by='name')\n",
    "df.value = df.value / 5\n",
    "\n",
    "sns.boxplot(data=df, ax=axes[1], x='n_shot', y='value', hue='height', palette=\"pastel\", showmeans=True)\n",
    "axes[1].set_title('Normalized Hierarchical Dist. of a Mistake')\n",
    "axes[1].set_ylim([0.5, 0.99])\n",
    "axes[1].set_xlabel('')\n",
    "axes[1].get_legend().remove()\n",
    "axes[1].set_ylabel('')\n",
    "\n",
    "# Charmander\n",
    "df = fulldf[fulldf.metric == 'f1_micro']\n",
    "df = df[df.tag == 'protonet']\n",
    "df = df[(df.height == 1) | (df.height == 0)]\n",
    "df = df.sort_values(by='name')\n",
    "\n",
    "sns.boxplot(ax=axes[0], data=df, x='n_shot', y='value', hue='height', palette=\"pastel\", showmeans=True)\n",
    "axes[0].set_title('F1 Micro')\n",
    "axes[0].set_xlabel('')\n",
    "axes[0].set_ylabel('')\n",
    "\n",
    "# axes[0].set_xlabel('Number of Support Examples $N$')\n",
    "\n",
    "# sns.boxplot(data=df, x='n_shot', y='value', hue='height', palette=\"pastel\", showmeans=True)\n",
    "\n",
    "plt.tight_layout()\n",
    "plt.xlabel('Number of Support Examples $N$')\n",
    "fig = plt.gcf()\n",
    "plt.close()\n",
    "fig.savefig(output_dir / 'n_shot-vs-f1-hlca.png')\n",
    "fig"
   ]
  },
  {
   "cell_type": "markdown",
   "id": "2c84d34a",
   "metadata": {},
   "source": [
    "- Figure 3: we pick the best n_shot and the best height, and we compare with 10 other random hierarchies. We don't want to show boxplots for all 10 of these random hierarchies, so we pick the best and the worst. This figure has 4 boxplots: random-best, random-worst, proposed and baseline.\n",
    "The 10 random models are almost done training. Do you want to be in charge of running eval, analysis on the random taxonomies + proposed + baseline, picking the best/worst random hierarchies, and making the boxplot for that?"
   ]
  },
  {
   "cell_type": "code",
   "execution_count": 74,
   "id": "44cb6125",
   "metadata": {},
   "outputs": [
    {
     "name": "stdout",
     "output_type": "stream",
     "text": [
      "Highest f1_micro: ('random-7', 0.7296263888888889, 8)\n",
      "Lowest f1_micro: ('random-4', 0.6818611111111113, 8)]\n",
      "\n",
      "Highest f1_macro: ('random-7', 0.7302059573350504, 8)\n",
      "Lowest f1_macro: ('random-4', 0.687946406006603, 8)]\n",
      "\n",
      "Highest epi-accuracy: ('random-7', 0.7296263888888889, 8)\n",
      "Lowest epi-accuracy: ('random-4', 0.6818611111111113, 8)]\n",
      "\n",
      "Highest hlca-mistake: ('random-7', 4.576544855310045, 8)\n",
      "Lowest hlca-mistake: ('random-5', 4.380501432681465, 8)]\n",
      "\n",
      "Highest hierarchical-precision: ('random-1', 0.8191319444444445, 8)\n",
      "Lowest hierarchical-precision: ('random-4', 0.7776819444444442, 8)]\n",
      "\n",
      "Highest hierarchical-recall: ('random-1', 0.8191319444444445, 8)\n",
      "Lowest hierarchical-recall: ('random-4', 0.7776819444444442, 8)]\n",
      "\n",
      "Highest hierarchical-f1: ('random-1', 0.8191319444444445, 8)\n",
      "Lowest hierarchical-f1: ('random-4', 0.7776819444444442, 8)]\n",
      "\n"
     ]
    }
   ],
   "source": [
    "metric_labels = {\n",
    "    'f1_micro' : 'F1 Micro',\n",
    "    'f1_macro':'F1 Macro',\n",
    "    'epi-accuracy':'Episode Accuracy',\n",
    "    'hlca-mistake':'HCLA Mistake',\n",
    "    'hierarchical-precision':'Hierarchical Precision',\n",
    "    'hierarchical-recall':'Hierarchical Recall',\n",
    "    'hierarchical-f1':'Hierarchical F1'\n",
    "}\n",
    "\n",
    "metrics = {metric:[] for metric in fulldf.metric.unique()}\n",
    "\n",
    "for name in fulldf.name.unique():\n",
    "    for metric in fulldf.metric.unique():\n",
    "        #for n in fulldf.n_shot.unique():\n",
    "        if 'random' in name:\n",
    "            val = np.mean(fulldf[(fulldf.name == name) & (fulldf.metric == metric) & (fulldf.n_shot == 8)].value)\n",
    "            metrics[metric].append((name, val, 8))\n",
    "for metric in metrics:\n",
    "    metrics[metric] = sorted_metrics = sorted(metrics[metric], key=lambda a: a[1])\n",
    "    print(f'Highest {metric}: {sorted_metrics[-1]}\\nLowest {metric}: {sorted_metrics[0]}]\\n')"
   ]
  },
  {
   "cell_type": "code",
   "execution_count": null,
   "id": "c4f16ab4",
   "metadata": {},
   "outputs": [],
   "source": [
    "resu"
   ]
  },
  {
   "cell_type": "code",
   "execution_count": 111,
   "id": "ca033459",
   "metadata": {},
   "outputs": [
    {
     "name": "stdout",
     "output_type": "stream",
     "text": [
      "f1_micro\n",
      "f1_macro\n",
      "epi-accuracy\n",
      "hlca-mistake\n",
      "hierarchical-precision\n",
      "hierarchical-recall\n",
      "hierarchical-f1\n"
     ]
    }
   ],
   "source": [
    "for metric, rand_mets in metrics.items():\n",
    "    print(metric)\n",
    "    # highest random tree for this metric\n",
    "    highest_rand = rand_mets[-1][0]\n",
    "    \n",
    "    # lowest random tree for this metric\n",
    "    lowest_rand = rand_mets[0][0]\n",
    "    \n",
    "    # get the runs we're intressted in \n",
    "    runs = ['baseline', 'proposed', lowest_rand, highest_rand]\n",
    "    df = fulldf[(fulldf.name.isin(runs)) & (fulldf.n_shot == 8) & (fulldf.metric == metric)]\n",
    "    \n",
    "    # getting min and max values for ylim\n",
    "    run_min = np.min(df.value) - .05 # add some spacing\n",
    "    run_max = np.max(df.value) + 0.05 # spacing\n",
    "    \n",
    "    plt.rcParams[\"figure.figsize\"] = (5,10)\n",
    "    sns.boxplot(data=df, x='name', y='value', palette=\"pastel\", showmeans=True)\n",
    "    \n",
    "    title = f'Comparison {metric_labels[metric]}'\n",
    "    plt.title(title)\n",
    "    plt.ylabel(metric_labels[metric])\n",
    "    plt.xlabel('Model Type')\n",
    "    \n",
    "    plt.tight_layout()\n",
    "    plt.ylim([run_min, run_max])\n",
    "    fig = plt.gcf()\n",
    "    plt.close()\n",
    "    \n",
    "    file_name = f'model-comparison-{metric}'\n",
    "    fig.savefig(output_dir / file_name)"
   ]
  },
  {
   "cell_type": "code",
   "execution_count": 65,
   "id": "3c109c9f",
   "metadata": {},
   "outputs": [
    {
     "data": {
      "text/plain": [
       "array(['random-1', 'random-2'], dtype=object)"
      ]
     },
     "execution_count": 65,
     "metadata": {},
     "output_type": "execute_result"
    }
   ],
   "source": [
    "fulldf[fulldf.name.isin(['random-1', 'random-2'])].name.unique()"
   ]
  },
  {
   "cell_type": "code",
   "execution_count": null,
   "id": "22a41cba",
   "metadata": {},
   "outputs": [],
   "source": []
  }
 ],
 "metadata": {
  "kernelspec": {
   "display_name": "Python 3",
   "language": "python",
   "name": "python3"
  },
  "language_info": {
   "codemirror_mode": {
    "name": "ipython",
    "version": 3
   },
   "file_extension": ".py",
   "mimetype": "text/x-python",
   "name": "python",
   "nbconvert_exporter": "python",
   "pygments_lexer": "ipython3",
   "version": "3.8.5"
  }
 },
 "nbformat": 4,
 "nbformat_minor": 5
}
